{
 "cells": [
  {
   "cell_type": "code",
   "execution_count": 2,
   "id": "6355b443",
   "metadata": {},
   "outputs": [
    {
     "name": "stdout",
     "output_type": "stream",
     "text": [
      "Your ticket number is 5. Please park in spot 5.\n",
      "Enter your ticket number: 5\n",
      "Enter your payment amount: 4\n",
      "Your ticket has been paid. You have 15 minutes to leave.\n",
      "Enter your ticket number: 5\n",
      "Thank you, have a nice day!\n"
     ]
    }
   ],
   "source": [
    "class Garage:\n",
    "    def __init__(self):\n",
    "        self.tickets = [1, 2, 3, 4, 5]\n",
    "        self.parkingSpaces = [1, 2, 3, 4, 5]\n",
    "        self.currentTicket = {}\n",
    "\n",
    "    def takeTicket(self):\n",
    "        ticket = self.tickets.pop()\n",
    "        space = self.parkingSpaces.pop()\n",
    "        self.currentTicket[ticket] = space\n",
    "        print(f\"Your ticket number is {ticket}. Please park in spot {space}.\")\n",
    "\n",
    "    def payForParking(self):\n",
    "        ticket = int(input(\"Enter your ticket number: \"))\n",
    "        if ticket in self.currentTicket:\n",
    "            payment = input(\"Enter your payment amount: \")\n",
    "            if payment:\n",
    "                print(\"Your ticket has been paid. You have 15 minutes to leave.\")\n",
    "                self.currentTicket[ticket] = True\n",
    "            else:\n",
    "                print(\"Payment failed. Please try again.\")\n",
    "        else:\n",
    "            print(\"Invalid ticket number.\")\n",
    "\n",
    "    def leaveGarage(self):\n",
    "        ticket = int(input(\"Enter your ticket number: \"))\n",
    "        if ticket in self.currentTicket:\n",
    "            if self.currentTicket[ticket] is True:\n",
    "                print(\"Thank you, have a nice day!\")\n",
    "            else:\n",
    "                print(\"Your ticket has not been paid.\")\n",
    "        else:\n",
    "            print(\"Invalid ticket number.\")\n",
    "            \n",
    "            \n",
    "garage = Garage()\n",
    "\n",
    "garage.takeTicket()\n",
    "\n",
    "garage.payForParking()\n",
    "\n",
    "garage.leaveGarage()\n",
    "\n"
   ]
  }
 ],
 "metadata": {
  "kernelspec": {
   "display_name": "Python 3 (ipykernel)",
   "language": "python",
   "name": "python3"
  },
  "language_info": {
   "codemirror_mode": {
    "name": "ipython",
    "version": 3
   },
   "file_extension": ".py",
   "mimetype": "text/x-python",
   "name": "python",
   "nbconvert_exporter": "python",
   "pygments_lexer": "ipython3",
   "version": "3.9.13"
  }
 },
 "nbformat": 4,
 "nbformat_minor": 5
}
